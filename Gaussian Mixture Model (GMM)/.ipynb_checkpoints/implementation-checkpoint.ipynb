{
 "cells": [
  {
   "cell_type": "code",
   "execution_count": null,
   "id": "initial_id",
   "metadata": {
    "ExecuteTime": {
     "end_time": "2024-06-02T10:20:04.605616Z",
     "start_time": "2024-06-02T10:20:04.602947Z"
    }
   },
   "outputs": [],
   "source": [
    "import numpy as np\n",
    "import numpy.linalg as la\n",
    "import pandas as pd\n",
    "import seaborn as sns\n",
    "import matplotlib.pyplot as plt\n",
    "\n",
    "from scipy.stats import multivariate_normal"
   ]
  },
  {
   "cell_type": "code",
   "execution_count": null,
   "id": "14110a19-7bee-4d0f-80cb-71247be41017",
   "metadata": {},
   "outputs": [],
   "source": [
    "mu1, sigma1 = [1, 2], [[1, 0.7], [0.7, 1]]\n",
    "mu2, sigma2 = [-1, -1], [[0.5, 0.1], [0.1, 0.5]]\n",
    "mu3, sigma3 = [2, -2], [[0.8, -0.3], [-0.3, 0.8]]\n",
    "\n",
    "data1 = np.random.multivariate_normal(mu1, sigma1, 1000)\n",
    "data2 = np.random.multivariate_normal(mu2, sigma2, 1000)\n",
    "data3 = np.random.multivariate_normal(mu3, sigma3, 1000)"
   ]
  },
  {
   "cell_type": "code",
   "execution_count": null,
   "id": "81bed8d8-ade1-423e-9fa5-5521021503b3",
   "metadata": {},
   "outputs": [],
   "source": [
    "plt.figure(figsize=(12, 6))\n",
    "\n",
    "plt.scatter(data1[:, 0], data1[:, 1], alpha=0.7)\n",
    "plt.scatter(data2[:, 0], data2[:, 1], alpha=0.7)\n",
    "plt.scatter(data3[:, 0], data3[:, 1], alpha=0.7)\n",
    "\n",
    "df1 = pd.DataFrame(data1, columns = ['x', 'y'])\n",
    "df2 = pd.DataFrame(data2, columns = ['x', 'y'])\n",
    "df3 = pd.DataFrame(data3, columns = ['x', 'y'])\n",
    "\n",
    "df1['label'] = \"distribution 1\"\n",
    "df2['label'] = \"distribution 2\"\n",
    "df3['label'] = \"distribution 3\"\n",
    "\n",
    "data = pd.concat([df1, df2, df3], ignore_index = True)\n",
    "\n",
    "sns.kdeplot(data, x='x', y='y', hue='label', levels=20, alpha=0.6)\n",
    "\n",
    "plt.title(\"Original Distributions\")\n",
    "plt.show();"
   ]
  },
  {
   "cell_type": "markdown",
   "id": "6ac1eab8-2045-481d-99aa-b51447f6ad94",
   "metadata": {},
   "source": [
    "### Problem Definition"
   ]
  },
  {
   "cell_type": "code",
   "execution_count": null,
   "id": "3070887b-1666-4df2-86c0-8b2e490eee03",
   "metadata": {},
   "outputs": [],
   "source": [
    "X = np.concatenate((data1, data2, data3))\n",
    "np.random.shuffle(X)\n",
    "\n",
    "plt.figure(figsize=(12, 6))\n",
    "\n",
    "plt.scatter(X[:, 0], X[:, 1], color='black')\n",
    "plt.title(\"Unclustered Dataset\")\n",
    "plt.xlabel(\"x\")\n",
    "plt.ylabel(\"y\")\n",
    "plt.show();"
   ]
  },
  {
   "cell_type": "markdown",
   "id": "6b9399e1-de86-4a3c-b72e-eaf982af7e95",
   "metadata": {},
   "source": [
    "### Initialization"
   ]
  },
  {
   "cell_type": "code",
   "execution_count": null,
   "id": "a7253b74-bcf8-4194-a204-65f1457b55a8",
   "metadata": {},
   "outputs": [],
   "source": [
    "def random_init(X, dim, n_components):\n",
    "    n_samples = X.shape[0]\n",
    "    indices = np.random.choice(n_samples, n_components, replace=True)\n",
    "    \n",
    "    means = X[indices]\n",
    "    covmats = np.array([np.eye(dim) for _ in range(n_components)])\n",
    "    pi = np.ones((n_components))/n_components\n",
    "    \n",
    "    return means, covmats, pi"
   ]
  },
  {
   "cell_type": "markdown",
   "id": "144d7d80-385a-4956-891a-97d85936fb1f",
   "metadata": {},
   "source": [
    "### Expectation Step"
   ]
  },
  {
   "cell_type": "code",
   "execution_count": null,
   "id": "5bb8452b-ff8a-4069-9300-240426849dea",
   "metadata": {},
   "outputs": [],
   "source": [
    "def expectation(X, n_components, means, covmats, pi):\n",
    "    n_samples = X.shape[0]\n",
    "    weights = np.zeros((n_components, n_samples))\n",
    "    \n",
    "    for i in range(n_samples):\n",
    "        for j in range(n_components):\n",
    "            weights[j, i] = pi[j] * multivariate_normal.pdf(X[i], mean=means[j], cov=covmats[j])\n",
    "        weights[:, i] /= np.sum(weights[:, i])\n",
    "        \n",
    "    return weights"
   ]
  },
  {
   "cell_type": "code",
   "execution_count": null,
   "id": "8098ce1c-2ed1-46bd-8182-75434f2958b6",
   "metadata": {},
   "outputs": [],
   "source": [
    "def maximize(X, weights, n_components, dim, means, covmats, pi):\n",
    "    pis = np.mean(weights, axis=1)\n",
    "    \n",
    "    covmats = np.zeros((n_components, dim, dim))\n",
    "    for j in range(n_components):\n",
    "        means[j]   = np.sum(weights[j, :, np.newaxis] * X, axis=0) / np.sum(weights[j])\n",
    "        diff = X - means[j]\n",
    "        covmats[j] = ((weights[j, :, np.newaxis] * diff).T @ diff) / np.sum(weights[j])\n",
    "        \n",
    "    return means, covmats, pi"
   ]
  },
  {
   "cell_type": "code",
   "execution_count": null,
   "id": "3c1edd6a-9d30-4b3b-86fc-3fec1d0aa01e",
   "metadata": {},
   "outputs": [],
   "source": [
    "def plot_intermediate(X, means, covmats, step):\n",
    "    plt.figure(figsize=(12, 6))\n",
    "\n",
    "    plt.scatter(X[:, 0], X[:, 1], color='black', alpha=0.5)\n",
    "\n",
    "    plot_samples = pd.DataFrame()\n",
    "    for j, i in enumerate([\"distribution 1\", \"distribution 2\", \"distribution 3\"]):\n",
    "        cluster_data = np.random.multivariate_normal(means[j], covmats[j], X.shape[0])\n",
    "        df = pd.DataFrame(cluster_data, columns = ['x', 'y'])\n",
    "        df['label'] = i\n",
    "        plot_samples = pd.concat([plot_samples, df], ignore_index=True)\n",
    "    \n",
    "    sns.kdeplot(plot_samples, x='x', y='y', hue='label', alpha=0.8)\n",
    "\n",
    "    plt.title(f\"GMM fit - step {step}\")\n",
    "    plt.xlabel(\"x\")\n",
    "    plt.ylabel(\"y\")\n",
    "    plt.show();"
   ]
  },
  {
   "cell_type": "code",
   "execution_count": null,
   "id": "0597bfc3-980f-48a6-90dc-0925721fd082",
   "metadata": {},
   "outputs": [],
   "source": [
    "dim = X.shape[1]\n",
    "n_components = 3\n",
    "n_steps = 30\n",
    "\n",
    "means, covmats, pi = random_init(X, dim, n_components)\n",
    "\n",
    "plot_intermediate(X, means, covmats, 0)\n",
    "\n",
    "for i in range(n_steps):\n",
    "    weights = expectation(X, n_components, means, covmats, pi)\n",
    "    means, covmats, pi = maximize(X, weights, n_components, dim, means, covmats, pi)\n",
    "\n",
    "plot_intermediate(X, means, covmats, 30)"
   ]
  },
  {
   "cell_type": "code",
   "execution_count": null,
   "id": "9cad8cd8-f272-4817-8026-248128700d2b",
   "metadata": {},
   "outputs": [],
   "source": []
  }
 ],
 "metadata": {
  "kernelspec": {
   "display_name": "Python 3 (ipykernel)",
   "language": "python",
   "name": "python3"
  },
  "language_info": {
   "codemirror_mode": {
    "name": "ipython",
    "version": 3
   },
   "file_extension": ".py",
   "mimetype": "text/x-python",
   "name": "python",
   "nbconvert_exporter": "python",
   "pygments_lexer": "ipython3",
   "version": "3.9.17"
  }
 },
 "nbformat": 4,
 "nbformat_minor": 5
}
