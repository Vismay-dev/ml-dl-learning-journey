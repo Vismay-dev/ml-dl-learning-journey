{
 "cells": [
  {
   "cell_type": "code",
   "execution_count": 1,
   "id": "initial_id",
   "metadata": {},
   "source": [
    "import pandas as pd\n",
    "import numpy as np\n",
    "import numpy.linalg as la\n",
    "import matplotlib.pyplot as plt\n",
    "\n",
    "from ucimlrepo import fetch_ucirepo "
   ],
   "outputs": []
  },
  {
   "cell_type": "code",
   "execution_count": 2,
   "id": "a618a5d4b521cc10",
   "metadata": {},
   "source": [
    "class PCA:\n",
    "    def __init__(self, n_components):\n",
    "        self.n_components = n_components\n",
    "        self.components = None\n",
    "        self.mean = None\n",
    "\n",
    "    def fit(self, X):\n",
    "        # center dataset\n",
    "        self.mean = np.mean(X, axis=0)\n",
    "        X = X - self.mean\n",
    "\n",
    "        # find n principal components\n",
    "        cov = np.cov(X.T)\n",
    "        eigvecs, eigvals = la.eig(cov)\n",
    "        idx = np.argsort(eigvals)[::-1]\n",
    "        eigvals = eigvals[idx][:self.n_components]\n",
    "        eigvecs = eigvecs.T[idx][:self.n_components]\n",
    "\n",
    "        self.components = eigvecs.T\n",
    "\n",
    "    def transform(self, X):\n",
    "        # center data\n",
    "        X = X - self.mean\n",
    "\n",
    "        # project onto principal components\n",
    "        projection = np.dot(X, self.components)\n",
    "        return projection"
   ],
   "outputs": []
  },
  {
   "cell_type": "code",
   "execution_count": 3,
   "id": "19540d38-b6a7-4df6-be81-85ec193a15e8",
   "metadata": {},
   "source": [
    "# fetching iris dataset\n",
    "iris = fetch_ucirepo(id=53) \n",
    "  \n",
    "# data (as pandas dataframes) \n",
    "X = iris.data.features \n",
    "y = iris.data.targets\n",
    "\n",
    "dataset = pd.concat((X, y), axis=1)\n",
    "  \n",
    "dataset"
   ],
   "outputs": []
  },
  {
   "cell_type": "code",
   "execution_count": 4,
   "id": "fa7485b5-bb39-492b-9e20-4cfcf0b2f08b",
   "metadata": {},
   "source": [
    "pca = PCA(2)\n",
    "pca.fit(X)\n",
    "X_projections = pca.transform(X)"
   ],
   "outputs": []
  },
  {
   "cell_type": "code",
   "execution_count": 5,
   "id": "1f5d7a9d-796c-4146-8b06-60df887bc72f",
   "metadata": {},
   "source": [
    "print(f\"Dataset shape before PCA: {X.shape}\")\n",
    "print(f\"Dataset shape before PCA: {X_projections.shape}\\n\")\n",
    "\n",
    "pc1 = X_projections[:, 0]\n",
    "pc2 = X_projections[:, 1]\n",
    "\n",
    "labels, unique_labels = pd.factorize(np.array(y).reshape(-1))\n",
    "\n",
    "plt.scatter(pc1, pc2, c=labels, alpha=0.8, cmap='viridis')\n",
    "plt.title(\"Principal Component Analysis\")\n",
    "plt.xlabel(\"Principal Component 1\")\n",
    "plt.ylabel(\"Principal Component 2\")\n",
    "plt.colorbar()\n",
    "plt.show();"
   ],
   "outputs": []
  }
 ],
 "metadata": {
  "kernelspec": {
   "display_name": "Python 3 (ipykernel)",
   "language": "python",
   "name": "python3"
  },
  "language_info": {
   "codemirror_mode": {
    "name": "ipython",
    "version": 3
   },
   "file_extension": ".py",
   "mimetype": "text/x-python",
   "name": "python",
   "nbconvert_exporter": "python",
   "pygments_lexer": "ipython3",
   "version": "3.9.17"
  }
 },
 "nbformat": 4,
 "nbformat_minor": 5
}
